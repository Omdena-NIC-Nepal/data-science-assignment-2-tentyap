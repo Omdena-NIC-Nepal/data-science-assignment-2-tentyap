{
 "cells": [
  {
   "cell_type": "code",
   "execution_count": 218,
   "metadata": {},
   "outputs": [
    {
     "name": "stdout",
     "output_type": "stream",
     "text": [
      "Requirement already satisfied: pandas in c:\\users\\kamal\\appdata\\local\\packages\\pythonsoftwarefoundation.python.3.10_qbz5n2kfra8p0\\localcache\\local-packages\\python310\\site-packages (2.2.2)\n",
      "Requirement already satisfied: tzdata>=2022.7 in c:\\users\\kamal\\appdata\\local\\packages\\pythonsoftwarefoundation.python.3.10_qbz5n2kfra8p0\\localcache\\local-packages\\python310\\site-packages (from pandas) (2024.1)\n",
      "Requirement already satisfied: python-dateutil>=2.8.2 in c:\\users\\kamal\\appdata\\local\\packages\\pythonsoftwarefoundation.python.3.10_qbz5n2kfra8p0\\localcache\\local-packages\\python310\\site-packages (from pandas) (2.8.2)\n",
      "Requirement already satisfied: pytz>=2020.1 in c:\\users\\kamal\\appdata\\local\\packages\\pythonsoftwarefoundation.python.3.10_qbz5n2kfra8p0\\localcache\\local-packages\\python310\\site-packages (from pandas) (2024.1)\n",
      "Requirement already satisfied: numpy>=1.22.4 in c:\\users\\kamal\\appdata\\local\\packages\\pythonsoftwarefoundation.python.3.10_qbz5n2kfra8p0\\localcache\\local-packages\\python310\\site-packages (from pandas) (2.0.0)\n",
      "Requirement already satisfied: six>=1.5 in c:\\users\\kamal\\appdata\\local\\packages\\pythonsoftwarefoundation.python.3.10_qbz5n2kfra8p0\\localcache\\local-packages\\python310\\site-packages (from python-dateutil>=2.8.2->pandas) (1.16.0)\n"
     ]
    },
    {
     "name": "stderr",
     "output_type": "stream",
     "text": [
      "\n",
      "[notice] A new release of pip is available: 23.0.1 -> 24.1.1\n",
      "[notice] To update, run: C:\\Users\\kamal\\AppData\\Local\\Microsoft\\WindowsApps\\PythonSoftwareFoundation.Python.3.10_qbz5n2kfra8p0\\python.exe -m pip install --upgrade pip\n"
     ]
    }
   ],
   "source": [
    "# Task 1\n",
    "! pip install pandas"
   ]
  },
  {
   "cell_type": "markdown",
   "metadata": {},
   "source": [
    "\n",
    "## Task 1: Setup and DataFrame Creation\n",
    "- Install Pandas (if not already installed).\n",
    "- Import Pandas and any other necessary libraries.\n",
    "- Create a DataFrame from a dictionary and from a list of dictionaries.\n",
    "- Load a dataset from a CSV file that is provide called `messed_dataset.csv`"
   ]
  },
  {
   "cell_type": "code",
   "execution_count": 219,
   "metadata": {},
   "outputs": [
    {
     "name": "stdout",
     "output_type": "stream",
     "text": [
      "Requirement already satisfied: pandas in c:\\users\\kamal\\appdata\\local\\packages\\pythonsoftwarefoundation.python.3.10_qbz5n2kfra8p0\\localcache\\local-packages\\python310\\site-packages (2.2.2)\n",
      "Requirement already satisfied: pytz>=2020.1 in c:\\users\\kamal\\appdata\\local\\packages\\pythonsoftwarefoundation.python.3.10_qbz5n2kfra8p0\\localcache\\local-packages\\python310\\site-packages (from pandas) (2024.1)\n",
      "Requirement already satisfied: tzdata>=2022.7 in c:\\users\\kamal\\appdata\\local\\packages\\pythonsoftwarefoundation.python.3.10_qbz5n2kfra8p0\\localcache\\local-packages\\python310\\site-packages (from pandas) (2024.1)\n",
      "Requirement already satisfied: numpy>=1.22.4 in c:\\users\\kamal\\appdata\\local\\packages\\pythonsoftwarefoundation.python.3.10_qbz5n2kfra8p0\\localcache\\local-packages\\python310\\site-packages (from pandas) (2.0.0)\n",
      "Requirement already satisfied: python-dateutil>=2.8.2 in c:\\users\\kamal\\appdata\\local\\packages\\pythonsoftwarefoundation.python.3.10_qbz5n2kfra8p0\\localcache\\local-packages\\python310\\site-packages (from pandas) (2.8.2)\n",
      "Requirement already satisfied: six>=1.5 in c:\\users\\kamal\\appdata\\local\\packages\\pythonsoftwarefoundation.python.3.10_qbz5n2kfra8p0\\localcache\\local-packages\\python310\\site-packages (from python-dateutil>=2.8.2->pandas) (1.16.0)\n"
     ]
    },
    {
     "name": "stderr",
     "output_type": "stream",
     "text": [
      "\n",
      "[notice] A new release of pip is available: 23.0.1 -> 24.1.1\n",
      "[notice] To update, run: C:\\Users\\kamal\\AppData\\Local\\Microsoft\\WindowsApps\\PythonSoftwareFoundation.Python.3.10_qbz5n2kfra8p0\\python.exe -m pip install --upgrade pip\n"
     ]
    }
   ],
   "source": [
    "# Creating of DataFrame\n",
    "! pip install pandas\n",
    "\n",
    "\n"
   ]
  },
  {
   "cell_type": "code",
   "execution_count": 220,
   "metadata": {},
   "outputs": [],
   "source": [
    "import pandas as pd"
   ]
  },
  {
   "cell_type": "code",
   "execution_count": 221,
   "metadata": {},
   "outputs": [
    {
     "name": "stdout",
     "output_type": "stream",
     "text": [
      "                  Name   Age                     Email            Country  \\\n",
      "0              invalid  59.0       ycastro@example.org        Switzerland   \n",
      "1      David Jefferson  21.0                       NaN              China   \n",
      "2        Jessica Reyes  34.0                       NaN                NaN   \n",
      "3    Kenneth Macdonald  68.0         ewolf@example.com              Italy   \n",
      "4          Julie Horne  78.0                       NaN            Ecuador   \n",
      "..                 ...   ...                       ...                ...   \n",
      "95    Garrett Davidson  56.0        gjames@example.com    Solomon Islands   \n",
      "96      Elizabeth Ross  52.0  richardlewis@example.net  Equatorial Guinea   \n",
      "97                 NaN  72.0       brian50@example.com            Somalia   \n",
      "98      Patricia Singh  65.0      lramirez@example.org             Greece   \n",
      "99  Christopher Stokes  42.0                       NaN       South Africa   \n",
      "\n",
      "      Salary DateOfJoining  \n",
      "0   44694.24    2022-09-29  \n",
      "1        NaN    2021-10-04  \n",
      "2   60511.62    2022-05-24  \n",
      "3   84223.29    2022-04-07  \n",
      "4   24665.13    2020-06-19  \n",
      "..       ...           ...  \n",
      "95  86227.88           NaN  \n",
      "96  29992.69    2020-04-08  \n",
      "97  90628.22    2020-04-11  \n",
      "98  85290.44    2020-03-18  \n",
      "99  20289.17    2021-09-23  \n",
      "\n",
      "[100 rows x 6 columns]\n"
     ]
    }
   ],
   "source": [
    "data2 = pd.read_csv(r\"C:\\Users\\kamal\\OneDrive\\Desktop\\omenda school\\data-science-assignment-2-tentyap\\messed_dataset.csv\")\n",
    "print(data2)"
   ]
  },
  {
   "cell_type": "code",
   "execution_count": 222,
   "metadata": {},
   "outputs": [
    {
     "name": "stdout",
     "output_type": "stream",
     "text": [
      "    Name  Age  Grade\n",
      "0  kamal   23      4\n",
      "1  sunam   20     10\n",
      "2  Rohan   34      5\n",
      "3   sona   15      6\n"
     ]
    }
   ],
   "source": [
    "data = {\n",
    "    \n",
    "    \"Name\" :['kamal','sunam',\"Rohan\",\"sona\"],\n",
    "    \"Age\" : [23, 20 , 34, 15],\n",
    "    \"Grade\" :[4,10, 5, 6]   \n",
    "}\n",
    "\n",
    "data = pd.DataFrame(data)\n",
    "print(data)"
   ]
  },
  {
   "cell_type": "markdown",
   "metadata": {},
   "source": [
    "## Task 2: Viewing and Inspecting Data\n",
    "- Display the first and last few rows of the DataFrame.\n",
    "- Get a summary of the DataFrame, including basic statistics and data types.\n",
    "- Display the shape and column names of the DataFrame.\n"
   ]
  },
  {
   "cell_type": "code",
   "execution_count": 223,
   "metadata": {},
   "outputs": [
    {
     "name": "stdout",
     "output_type": "stream",
     "text": [
      "                  Name   Age                     Email            Country  \\\n",
      "0              invalid  59.0       ycastro@example.org        Switzerland   \n",
      "1      David Jefferson  21.0                       NaN              China   \n",
      "2        Jessica Reyes  34.0                       NaN                NaN   \n",
      "3    Kenneth Macdonald  68.0         ewolf@example.com              Italy   \n",
      "4          Julie Horne  78.0                       NaN            Ecuador   \n",
      "..                 ...   ...                       ...                ...   \n",
      "95    Garrett Davidson  56.0        gjames@example.com    Solomon Islands   \n",
      "96      Elizabeth Ross  52.0  richardlewis@example.net  Equatorial Guinea   \n",
      "97                 NaN  72.0       brian50@example.com            Somalia   \n",
      "98      Patricia Singh  65.0      lramirez@example.org             Greece   \n",
      "99  Christopher Stokes  42.0                       NaN       South Africa   \n",
      "\n",
      "      Salary DateOfJoining  \n",
      "0   44694.24    2022-09-29  \n",
      "1        NaN    2021-10-04  \n",
      "2   60511.62    2022-05-24  \n",
      "3   84223.29    2022-04-07  \n",
      "4   24665.13    2020-06-19  \n",
      "..       ...           ...  \n",
      "95  86227.88           NaN  \n",
      "96  29992.69    2020-04-08  \n",
      "97  90628.22    2020-04-11  \n",
      "98  85290.44    2020-03-18  \n",
      "99  20289.17    2021-09-23  \n",
      "\n",
      "[100 rows x 6 columns]\n"
     ]
    }
   ],
   "source": [
    "# Display of first  row\n",
    "data2.head()\n",
    "print(data2)"
   ]
  },
  {
   "cell_type": "code",
   "execution_count": 224,
   "metadata": {},
   "outputs": [
    {
     "name": "stdout",
     "output_type": "stream",
     "text": [
      "                  Name   Age                     Email            Country  \\\n",
      "0              invalid  59.0       ycastro@example.org        Switzerland   \n",
      "1      David Jefferson  21.0                       NaN              China   \n",
      "2        Jessica Reyes  34.0                       NaN                NaN   \n",
      "3    Kenneth Macdonald  68.0         ewolf@example.com              Italy   \n",
      "4          Julie Horne  78.0                       NaN            Ecuador   \n",
      "..                 ...   ...                       ...                ...   \n",
      "95    Garrett Davidson  56.0        gjames@example.com    Solomon Islands   \n",
      "96      Elizabeth Ross  52.0  richardlewis@example.net  Equatorial Guinea   \n",
      "97                 NaN  72.0       brian50@example.com            Somalia   \n",
      "98      Patricia Singh  65.0      lramirez@example.org             Greece   \n",
      "99  Christopher Stokes  42.0                       NaN       South Africa   \n",
      "\n",
      "      Salary DateOfJoining  \n",
      "0   44694.24    2022-09-29  \n",
      "1        NaN    2021-10-04  \n",
      "2   60511.62    2022-05-24  \n",
      "3   84223.29    2022-04-07  \n",
      "4   24665.13    2020-06-19  \n",
      "..       ...           ...  \n",
      "95  86227.88           NaN  \n",
      "96  29992.69    2020-04-08  \n",
      "97  90628.22    2020-04-11  \n",
      "98  85290.44    2020-03-18  \n",
      "99  20289.17    2021-09-23  \n",
      "\n",
      "[100 rows x 6 columns]\n"
     ]
    }
   ],
   "source": [
    "# last data\n",
    "data.tail()\n",
    "print(data2)"
   ]
  },
  {
   "cell_type": "markdown",
   "metadata": {},
   "source": []
  },
  {
   "cell_type": "code",
   "execution_count": 225,
   "metadata": {},
   "outputs": [
    {
     "name": "stdout",
     "output_type": "stream",
     "text": [
      "                  Name   Age                     Email            Country  \\\n",
      "0              invalid  59.0       ycastro@example.org        Switzerland   \n",
      "1      David Jefferson  21.0                       NaN              China   \n",
      "2        Jessica Reyes  34.0                       NaN                NaN   \n",
      "3    Kenneth Macdonald  68.0         ewolf@example.com              Italy   \n",
      "4          Julie Horne  78.0                       NaN            Ecuador   \n",
      "..                 ...   ...                       ...                ...   \n",
      "95    Garrett Davidson  56.0        gjames@example.com    Solomon Islands   \n",
      "96      Elizabeth Ross  52.0  richardlewis@example.net  Equatorial Guinea   \n",
      "97                 NaN  72.0       brian50@example.com            Somalia   \n",
      "98      Patricia Singh  65.0      lramirez@example.org             Greece   \n",
      "99  Christopher Stokes  42.0                       NaN       South Africa   \n",
      "\n",
      "      Salary DateOfJoining  \n",
      "0   44694.24    2022-09-29  \n",
      "1        NaN    2021-10-04  \n",
      "2   60511.62    2022-05-24  \n",
      "3   84223.29    2022-04-07  \n",
      "4   24665.13    2020-06-19  \n",
      "..       ...           ...  \n",
      "95  86227.88           NaN  \n",
      "96  29992.69    2020-04-08  \n",
      "97  90628.22    2020-04-11  \n",
      "98  85290.44    2020-03-18  \n",
      "99  20289.17    2021-09-23  \n",
      "\n",
      "[100 rows x 6 columns]\n"
     ]
    }
   ],
   "source": [
    "# Get summery of the dataFrame\n",
    "data2.describe()\n",
    "print(data2)"
   ]
  },
  {
   "cell_type": "code",
   "execution_count": 226,
   "metadata": {},
   "outputs": [
    {
     "name": "stdout",
     "output_type": "stream",
     "text": [
      "<class 'pandas.core.frame.DataFrame'>\n",
      "RangeIndex: 4 entries, 0 to 3\n",
      "Data columns (total 3 columns):\n",
      " #   Column  Non-Null Count  Dtype \n",
      "---  ------  --------------  ----- \n",
      " 0   Name    4 non-null      object\n",
      " 1   Age     4 non-null      int64 \n",
      " 2   Grade   4 non-null      int64 \n",
      "dtypes: int64(2), object(1)\n",
      "memory usage: 224.0+ bytes\n",
      "                  Name   Age                     Email            Country  \\\n",
      "0              invalid  59.0       ycastro@example.org        Switzerland   \n",
      "1      David Jefferson  21.0                       NaN              China   \n",
      "2        Jessica Reyes  34.0                       NaN                NaN   \n",
      "3    Kenneth Macdonald  68.0         ewolf@example.com              Italy   \n",
      "4          Julie Horne  78.0                       NaN            Ecuador   \n",
      "..                 ...   ...                       ...                ...   \n",
      "95    Garrett Davidson  56.0        gjames@example.com    Solomon Islands   \n",
      "96      Elizabeth Ross  52.0  richardlewis@example.net  Equatorial Guinea   \n",
      "97                 NaN  72.0       brian50@example.com            Somalia   \n",
      "98      Patricia Singh  65.0      lramirez@example.org             Greece   \n",
      "99  Christopher Stokes  42.0                       NaN       South Africa   \n",
      "\n",
      "      Salary DateOfJoining  \n",
      "0   44694.24    2022-09-29  \n",
      "1        NaN    2021-10-04  \n",
      "2   60511.62    2022-05-24  \n",
      "3   84223.29    2022-04-07  \n",
      "4   24665.13    2020-06-19  \n",
      "..       ...           ...  \n",
      "95  86227.88           NaN  \n",
      "96  29992.69    2020-04-08  \n",
      "97  90628.22    2020-04-11  \n",
      "98  85290.44    2020-03-18  \n",
      "99  20289.17    2021-09-23  \n",
      "\n",
      "[100 rows x 6 columns]\n"
     ]
    }
   ],
   "source": [
    "# All information of Data\n",
    "data.info()\n",
    "print(data2)"
   ]
  },
  {
   "cell_type": "code",
   "execution_count": 227,
   "metadata": {},
   "outputs": [
    {
     "name": "stdout",
     "output_type": "stream",
     "text": [
      "                  Name   Age                     Email            Country  \\\n",
      "0              invalid  59.0       ycastro@example.org        Switzerland   \n",
      "1      David Jefferson  21.0                       NaN              China   \n",
      "2        Jessica Reyes  34.0                       NaN                NaN   \n",
      "3    Kenneth Macdonald  68.0         ewolf@example.com              Italy   \n",
      "4          Julie Horne  78.0                       NaN            Ecuador   \n",
      "..                 ...   ...                       ...                ...   \n",
      "95    Garrett Davidson  56.0        gjames@example.com    Solomon Islands   \n",
      "96      Elizabeth Ross  52.0  richardlewis@example.net  Equatorial Guinea   \n",
      "97                 NaN  72.0       brian50@example.com            Somalia   \n",
      "98      Patricia Singh  65.0      lramirez@example.org             Greece   \n",
      "99  Christopher Stokes  42.0                       NaN       South Africa   \n",
      "\n",
      "      Salary DateOfJoining  \n",
      "0   44694.24    2022-09-29  \n",
      "1        NaN    2021-10-04  \n",
      "2   60511.62    2022-05-24  \n",
      "3   84223.29    2022-04-07  \n",
      "4   24665.13    2020-06-19  \n",
      "..       ...           ...  \n",
      "95  86227.88           NaN  \n",
      "96  29992.69    2020-04-08  \n",
      "97  90628.22    2020-04-11  \n",
      "98  85290.44    2020-03-18  \n",
      "99  20289.17    2021-09-23  \n",
      "\n",
      "[100 rows x 6 columns]\n"
     ]
    }
   ],
   "source": [
    "# Shape of the coloum\n",
    "data2.shape\n",
    "print(data2)"
   ]
  },
  {
   "cell_type": "code",
   "execution_count": null,
   "metadata": {},
   "outputs": [],
   "source": [
    "\n",
    "\n",
    "\n"
   ]
  },
  {
   "cell_type": "code",
   "execution_count": null,
   "metadata": {},
   "outputs": [],
   "source": [
    "\n"
   ]
  },
  {
   "cell_type": "code",
   "execution_count": null,
   "metadata": {},
   "outputs": [],
   "source": []
  },
  {
   "cell_type": "code",
   "execution_count": null,
   "metadata": {},
   "outputs": [],
   "source": []
  },
  {
   "cell_type": "markdown",
   "metadata": {},
   "source": [
    "## Task 3: Selection and Indexing\n",
    "- Select a single column and multiple columns.\n",
    "- Select rows by index and by label.\n",
    "- Select specific rows and columns using loc and iloc."
   ]
  },
  {
   "cell_type": "code",
   "execution_count": 228,
   "metadata": {},
   "outputs": [
    {
     "data": {
      "text/plain": [
       "0                invalid\n",
       "1        David Jefferson\n",
       "2          Jessica Reyes\n",
       "3      Kenneth Macdonald\n",
       "4            Julie Horne\n",
       "             ...        \n",
       "95      Garrett Davidson\n",
       "96        Elizabeth Ross\n",
       "97                   NaN\n",
       "98        Patricia Singh\n",
       "99    Christopher Stokes\n",
       "Name: Name, Length: 100, dtype: object"
      ]
     },
     "execution_count": 228,
     "metadata": {},
     "output_type": "execute_result"
    }
   ],
   "source": [
    "# selecting of single columns\n",
    "data2['Name']\n"
   ]
  },
  {
   "cell_type": "code",
   "execution_count": 229,
   "metadata": {},
   "outputs": [
    {
     "data": {
      "text/plain": [
       "Name             Kenneth Macdonald\n",
       "Age                           68.0\n",
       "Email            ewolf@example.com\n",
       "Country                      Italy\n",
       "Salary                    84223.29\n",
       "DateOfJoining           2022-04-07\n",
       "Name: 3, dtype: object"
      ]
     },
     "execution_count": 229,
     "metadata": {},
     "output_type": "execute_result"
    }
   ],
   "source": [
    "# find the coloum from dataFrame using iloc\n",
    "data2.iloc[3]"
   ]
  },
  {
   "cell_type": "code",
   "execution_count": 230,
   "metadata": {},
   "outputs": [
    {
     "data": {
      "text/html": [
       "<div>\n",
       "<style scoped>\n",
       "    .dataframe tbody tr th:only-of-type {\n",
       "        vertical-align: middle;\n",
       "    }\n",
       "\n",
       "    .dataframe tbody tr th {\n",
       "        vertical-align: top;\n",
       "    }\n",
       "\n",
       "    .dataframe thead th {\n",
       "        text-align: right;\n",
       "    }\n",
       "</style>\n",
       "<table border=\"1\" class=\"dataframe\">\n",
       "  <thead>\n",
       "    <tr style=\"text-align: right;\">\n",
       "      <th></th>\n",
       "      <th>Name</th>\n",
       "      <th>Age</th>\n",
       "      <th>Email</th>\n",
       "      <th>Country</th>\n",
       "      <th>Salary</th>\n",
       "      <th>DateOfJoining</th>\n",
       "    </tr>\n",
       "  </thead>\n",
       "  <tbody>\n",
       "    <tr>\n",
       "      <th>0</th>\n",
       "      <td>invalid</td>\n",
       "      <td>59.0</td>\n",
       "      <td>ycastro@example.org</td>\n",
       "      <td>Switzerland</td>\n",
       "      <td>44694.24</td>\n",
       "      <td>2022-09-29</td>\n",
       "    </tr>\n",
       "    <tr>\n",
       "      <th>1</th>\n",
       "      <td>David Jefferson</td>\n",
       "      <td>21.0</td>\n",
       "      <td>NaN</td>\n",
       "      <td>China</td>\n",
       "      <td>NaN</td>\n",
       "      <td>2021-10-04</td>\n",
       "    </tr>\n",
       "    <tr>\n",
       "      <th>2</th>\n",
       "      <td>Jessica Reyes</td>\n",
       "      <td>34.0</td>\n",
       "      <td>NaN</td>\n",
       "      <td>NaN</td>\n",
       "      <td>60511.62</td>\n",
       "      <td>2022-05-24</td>\n",
       "    </tr>\n",
       "    <tr>\n",
       "      <th>3</th>\n",
       "      <td>Kenneth Macdonald</td>\n",
       "      <td>68.0</td>\n",
       "      <td>ewolf@example.com</td>\n",
       "      <td>Italy</td>\n",
       "      <td>84223.29</td>\n",
       "      <td>2022-04-07</td>\n",
       "    </tr>\n",
       "    <tr>\n",
       "      <th>4</th>\n",
       "      <td>Julie Horne</td>\n",
       "      <td>78.0</td>\n",
       "      <td>NaN</td>\n",
       "      <td>Ecuador</td>\n",
       "      <td>24665.13</td>\n",
       "      <td>2020-06-19</td>\n",
       "    </tr>\n",
       "    <tr>\n",
       "      <th>...</th>\n",
       "      <td>...</td>\n",
       "      <td>...</td>\n",
       "      <td>...</td>\n",
       "      <td>...</td>\n",
       "      <td>...</td>\n",
       "      <td>...</td>\n",
       "    </tr>\n",
       "    <tr>\n",
       "      <th>95</th>\n",
       "      <td>Garrett Davidson</td>\n",
       "      <td>56.0</td>\n",
       "      <td>gjames@example.com</td>\n",
       "      <td>Solomon Islands</td>\n",
       "      <td>86227.88</td>\n",
       "      <td>NaN</td>\n",
       "    </tr>\n",
       "    <tr>\n",
       "      <th>96</th>\n",
       "      <td>Elizabeth Ross</td>\n",
       "      <td>52.0</td>\n",
       "      <td>richardlewis@example.net</td>\n",
       "      <td>Equatorial Guinea</td>\n",
       "      <td>29992.69</td>\n",
       "      <td>2020-04-08</td>\n",
       "    </tr>\n",
       "    <tr>\n",
       "      <th>97</th>\n",
       "      <td>NaN</td>\n",
       "      <td>72.0</td>\n",
       "      <td>brian50@example.com</td>\n",
       "      <td>Somalia</td>\n",
       "      <td>90628.22</td>\n",
       "      <td>2020-04-11</td>\n",
       "    </tr>\n",
       "    <tr>\n",
       "      <th>98</th>\n",
       "      <td>Patricia Singh</td>\n",
       "      <td>65.0</td>\n",
       "      <td>lramirez@example.org</td>\n",
       "      <td>Greece</td>\n",
       "      <td>85290.44</td>\n",
       "      <td>2020-03-18</td>\n",
       "    </tr>\n",
       "    <tr>\n",
       "      <th>99</th>\n",
       "      <td>Christopher Stokes</td>\n",
       "      <td>42.0</td>\n",
       "      <td>NaN</td>\n",
       "      <td>South Africa</td>\n",
       "      <td>20289.17</td>\n",
       "      <td>2021-09-23</td>\n",
       "    </tr>\n",
       "  </tbody>\n",
       "</table>\n",
       "<p>100 rows × 6 columns</p>\n",
       "</div>"
      ],
      "text/plain": [
       "                  Name   Age                     Email            Country  \\\n",
       "0              invalid  59.0       ycastro@example.org        Switzerland   \n",
       "1      David Jefferson  21.0                       NaN              China   \n",
       "2        Jessica Reyes  34.0                       NaN                NaN   \n",
       "3    Kenneth Macdonald  68.0         ewolf@example.com              Italy   \n",
       "4          Julie Horne  78.0                       NaN            Ecuador   \n",
       "..                 ...   ...                       ...                ...   \n",
       "95    Garrett Davidson  56.0        gjames@example.com    Solomon Islands   \n",
       "96      Elizabeth Ross  52.0  richardlewis@example.net  Equatorial Guinea   \n",
       "97                 NaN  72.0       brian50@example.com            Somalia   \n",
       "98      Patricia Singh  65.0      lramirez@example.org             Greece   \n",
       "99  Christopher Stokes  42.0                       NaN       South Africa   \n",
       "\n",
       "      Salary DateOfJoining  \n",
       "0   44694.24    2022-09-29  \n",
       "1        NaN    2021-10-04  \n",
       "2   60511.62    2022-05-24  \n",
       "3   84223.29    2022-04-07  \n",
       "4   24665.13    2020-06-19  \n",
       "..       ...           ...  \n",
       "95  86227.88           NaN  \n",
       "96  29992.69    2020-04-08  \n",
       "97  90628.22    2020-04-11  \n",
       "98  85290.44    2020-03-18  \n",
       "99  20289.17    2021-09-23  \n",
       "\n",
       "[100 rows x 6 columns]"
      ]
     },
     "execution_count": 230,
     "metadata": {},
     "output_type": "execute_result"
    }
   ],
   "source": [
    "# selecting a multiple columns\n",
    "data2[['Name',\"Age\",\"Email\"]]\n",
    "data2\n"
   ]
  },
  {
   "cell_type": "code",
   "execution_count": 231,
   "metadata": {},
   "outputs": [
    {
     "data": {
      "text/plain": [
       "Name             David Jefferson\n",
       "Age                         21.0\n",
       "Email                        NaN\n",
       "Country                    China\n",
       "Salary                       NaN\n",
       "DateOfJoining         2021-10-04\n",
       "Name: 1, dtype: object"
      ]
     },
     "execution_count": 231,
     "metadata": {},
     "output_type": "execute_result"
    }
   ],
   "source": [
    "#specfic the  indix using a loc\n",
    "data2.loc[1]"
   ]
  },
  {
   "cell_type": "code",
   "execution_count": 232,
   "metadata": {},
   "outputs": [
    {
     "data": {
      "text/html": [
       "<div>\n",
       "<style scoped>\n",
       "    .dataframe tbody tr th:only-of-type {\n",
       "        vertical-align: middle;\n",
       "    }\n",
       "\n",
       "    .dataframe tbody tr th {\n",
       "        vertical-align: top;\n",
       "    }\n",
       "\n",
       "    .dataframe thead th {\n",
       "        text-align: right;\n",
       "    }\n",
       "</style>\n",
       "<table border=\"1\" class=\"dataframe\">\n",
       "  <thead>\n",
       "    <tr style=\"text-align: right;\">\n",
       "      <th></th>\n",
       "      <th>Name</th>\n",
       "      <th>Email</th>\n",
       "    </tr>\n",
       "  </thead>\n",
       "  <tbody>\n",
       "    <tr>\n",
       "      <th>0</th>\n",
       "      <td>invalid</td>\n",
       "      <td>ycastro@example.org</td>\n",
       "    </tr>\n",
       "    <tr>\n",
       "      <th>1</th>\n",
       "      <td>David Jefferson</td>\n",
       "      <td>NaN</td>\n",
       "    </tr>\n",
       "    <tr>\n",
       "      <th>2</th>\n",
       "      <td>Jessica Reyes</td>\n",
       "      <td>NaN</td>\n",
       "    </tr>\n",
       "  </tbody>\n",
       "</table>\n",
       "</div>"
      ],
      "text/plain": [
       "              Name                Email\n",
       "0          invalid  ycastro@example.org\n",
       "1  David Jefferson                  NaN\n",
       "2    Jessica Reyes                  NaN"
      ]
     },
     "execution_count": 232,
     "metadata": {},
     "output_type": "execute_result"
    }
   ],
   "source": [
    "# findig a data using rows and column using lco\n",
    "data2.loc[0:2,[\"Name\",\"Email\"]]"
   ]
  },
  {
   "cell_type": "markdown",
   "metadata": {},
   "source": [
    "\n",
    "## Task 4: Handling Missing Data\n",
    "- Identify missing values in the DataFrame.\n",
    "- Drop rows with missing values.\n",
    "- Fill missing values with a specified value."
   ]
  },
  {
   "cell_type": "code",
   "execution_count": 233,
   "metadata": {},
   "outputs": [
    {
     "data": {
      "text/plain": [
       "Name             11\n",
       "Age               3\n",
       "Email            20\n",
       "Country          14\n",
       "Salary            6\n",
       "DateOfJoining    21\n",
       "dtype: int64"
      ]
     },
     "execution_count": 233,
     "metadata": {},
     "output_type": "execute_result"
    }
   ],
   "source": [
    "# Identify missing Values in the DataFrame\n",
    "data2.isnull().sum()\n"
   ]
  },
  {
   "cell_type": "code",
   "execution_count": 234,
   "metadata": {},
   "outputs": [],
   "source": [
    "\n",
    "# #Drop a missing  Value\n",
    "# data2.dropna (inplace = True)\n",
    "# print(date2)"
   ]
  },
  {
   "cell_type": "code",
   "execution_count": 235,
   "metadata": {},
   "outputs": [],
   "source": [
    "# Fill missing values with a specified value.\n",
    "data2.fillna(value ={'Age':40}, inplace =True)\n"
   ]
  },
  {
   "cell_type": "markdown",
   "metadata": {},
   "source": [
    "\n",
    "## Task 5: Data Operations\n",
    "- Add a new column to the DataFrame.\n",
    "- Delete a column from the DataFrame.\n",
    "- Rename columns in the DataFrame.\n",
    "- Apply a function to a column."
   ]
  },
  {
   "cell_type": "code",
   "execution_count": 236,
   "metadata": {},
   "outputs": [
    {
     "name": "stdout",
     "output_type": "stream",
     "text": [
      "    Name  Age  Grade  Salary\n",
      "0  kamal   23      4    5000\n",
      "1  Rohan   20      5   70000\n",
      "2   sona   34      6   90000\n",
      "3  sinam   15      7    8000\n"
     ]
    }
   ],
   "source": [
    "# Add a new coloumn to the Data Frame\n",
    "data['Name'] = [\"kamal\", \"Rohan\", \"sona\", \"sinam\"]\n",
    "data['Grade'] = [4, 5, 6, 7]\n",
    "data['Salary'] = [5000,70000,90000,8000]\n",
    "print(data)"
   ]
  },
  {
   "cell_type": "code",
   "execution_count": 237,
   "metadata": {},
   "outputs": [
    {
     "name": "stdout",
     "output_type": "stream",
     "text": [
      "    Name  Age  Salary\n",
      "0  kamal   23    5000\n",
      "1  Rohan   20   70000\n",
      "2   sona   34   90000\n",
      "3  sinam   15    8000\n"
     ]
    }
   ],
   "source": [
    "# Delete a column\n",
    "\n",
    "data.drop(columns = [\"Grade\"],inplace =True)\n",
    "print(data)"
   ]
  },
  {
   "cell_type": "code",
   "execution_count": 238,
   "metadata": {},
   "outputs": [
    {
     "name": "stdout",
     "output_type": "stream",
     "text": [
      "   Namsu  Age  Salary\n",
      "0  kamal   23    5000\n",
      "1  Rohan   20   70000\n",
      "2   sona   34   90000\n",
      "3  sinam   15    8000\n"
     ]
    }
   ],
   "source": [
    "# Rename of Columns \n",
    "\n",
    "data = data.rename(columns={'Name': 'Namsu'})\n",
    "print(data)"
   ]
  },
  {
   "cell_type": "code",
   "execution_count": 239,
   "metadata": {},
   "outputs": [
    {
     "data": {
      "text/html": [
       "<div>\n",
       "<style scoped>\n",
       "    .dataframe tbody tr th:only-of-type {\n",
       "        vertical-align: middle;\n",
       "    }\n",
       "\n",
       "    .dataframe tbody tr th {\n",
       "        vertical-align: top;\n",
       "    }\n",
       "\n",
       "    .dataframe thead th {\n",
       "        text-align: right;\n",
       "    }\n",
       "</style>\n",
       "<table border=\"1\" class=\"dataframe\">\n",
       "  <thead>\n",
       "    <tr style=\"text-align: right;\">\n",
       "      <th></th>\n",
       "      <th>Namsu</th>\n",
       "      <th>Age</th>\n",
       "      <th>Salary</th>\n",
       "    </tr>\n",
       "  </thead>\n",
       "  <tbody>\n",
       "    <tr>\n",
       "      <th>0</th>\n",
       "      <td>kamal</td>\n",
       "      <td>23</td>\n",
       "      <td>5001</td>\n",
       "    </tr>\n",
       "    <tr>\n",
       "      <th>1</th>\n",
       "      <td>Rohan</td>\n",
       "      <td>20</td>\n",
       "      <td>70001</td>\n",
       "    </tr>\n",
       "    <tr>\n",
       "      <th>2</th>\n",
       "      <td>sona</td>\n",
       "      <td>34</td>\n",
       "      <td>90001</td>\n",
       "    </tr>\n",
       "    <tr>\n",
       "      <th>3</th>\n",
       "      <td>sinam</td>\n",
       "      <td>15</td>\n",
       "      <td>8001</td>\n",
       "    </tr>\n",
       "  </tbody>\n",
       "</table>\n",
       "</div>"
      ],
      "text/plain": [
       "   Namsu  Age  Salary\n",
       "0  kamal   23    5001\n",
       "1  Rohan   20   70001\n",
       "2   sona   34   90001\n",
       "3  sinam   15    8001"
      ]
     },
     "execution_count": 239,
     "metadata": {},
     "output_type": "execute_result"
    }
   ],
   "source": [
    "#use lambda function \n",
    "data['Salary'] = data[\"Salary\"].apply(lambda x :x+1)\n",
    "data"
   ]
  },
  {
   "cell_type": "markdown",
   "metadata": {},
   "source": [
    "## Task 6: GroupBy Operations\n",
    "- Group the DataFrame by a column and calculate summary statistics.\n",
    "- Iterate over groups and display the group names and data.\n"
   ]
  },
  {
   "cell_type": "code",
   "execution_count": 240,
   "metadata": {},
   "outputs": [
    {
     "data": {
      "text/plain": [
       "<pandas.core.groupby.generic.DataFrameGroupBy object at 0x0000026365149810>"
      ]
     },
     "execution_count": 240,
     "metadata": {},
     "output_type": "execute_result"
    }
   ],
   "source": [
    "#Group the DataFrame by a column and calculate summary statistics.\n",
    "# Grouped by name\n",
    "grouped = data.groupby(\"Age\")\n",
    "grouped"
   ]
  },
  {
   "cell_type": "code",
   "execution_count": 241,
   "metadata": {},
   "outputs": [
    {
     "data": {
      "text/plain": [
       "Age\n",
       "15     8001.0\n",
       "20    70001.0\n",
       "23     5001.0\n",
       "34    90001.0\n",
       "Name: Salary, dtype: float64"
      ]
     },
     "execution_count": 241,
     "metadata": {},
     "output_type": "execute_result"
    }
   ],
   "source": [
    "# calculated a mean\n",
    "mean_score = grouped['Salary'].mean()\n",
    "mean_score\n"
   ]
  },
  {
   "cell_type": "code",
   "execution_count": null,
   "metadata": {},
   "outputs": [],
   "source": []
  },
  {
   "cell_type": "markdown",
   "metadata": {},
   "source": [
    "## Task 7: Merging and Joining DataFrames\n",
    "- Merge two DataFrames on a common column.\n",
    "- Join two DataFrames using their indices."
   ]
  },
  {
   "cell_type": "code",
   "execution_count": 242,
   "metadata": {},
   "outputs": [
    {
     "name": "stdout",
     "output_type": "stream",
     "text": [
      "     c   d\n",
      "k0  c0  d0\n",
      "k1  c1  d1\n",
      "k2  c2  d2\n"
     ]
    }
   ],
   "source": [
    "# Marging and joining \n",
    "# Marging and joining  # required same indixing \n",
    "data4 = pd.DataFrame({\n",
    "    \"c\": [\"c0\", \"c1\", \"c2\"],\n",
    "    \"d\": [\"d0\", \"d1\", \"d2\"]\n",
    "}, index=['k0', 'k1', 'k2'])\n",
    "\n",
    "print(data4)         "
   ]
  },
  {
   "cell_type": "code",
   "execution_count": 243,
   "metadata": {},
   "outputs": [
    {
     "name": "stdout",
     "output_type": "stream",
     "text": [
      "     A   B\n",
      "k0  A0  B0\n",
      "k1  A1  B1\n",
      "k2  A2  B2\n"
     ]
    }
   ],
   "source": [
    "# Marging and joining \n",
    "# Marging and joining \n",
    "data5= pd.DataFrame({\n",
    "    \"A\": [\"A0\", \"A1\", \"A2\"],\n",
    "    \"B\": [\"B0\", \"B1\", \"B2\"]\n",
    "}, index=['k0', 'k1', 'k2'])\n",
    "\n",
    "print(data5)\n",
    "\n"
   ]
  },
  {
   "cell_type": "code",
   "execution_count": 244,
   "metadata": {},
   "outputs": [
    {
     "name": "stdout",
     "output_type": "stream",
     "text": [
      "     A   B   c   d\n",
      "k0  A0  B0  c0  d0\n",
      "k1  A1  B1  c1  d1\n",
      "k2  A2  B2  c2  d2\n"
     ]
    }
   ],
   "source": [
    "join_data = data5.join(data4)\n",
    "print(join_data)"
   ]
  },
  {
   "cell_type": "markdown",
   "metadata": {},
   "source": [
    "## Task 8: Working with Dates and Times\n",
    "- Create a datetime index for the DataFrame.\n",
    "- Convert a column to datetime and extract date components."
   ]
  },
  {
   "cell_type": "code",
   "execution_count": 245,
   "metadata": {},
   "outputs": [
    {
     "name": "stdout",
     "output_type": "stream",
     "text": [
      "   Namsu  Age  Salary       date\n",
      "0  kamal   23    5001 2022-01-12\n",
      "1  Rohan   20   70001 2022-01-13\n",
      "2   sona   34   90001 2022-01-14\n",
      "3  sinam   15    8001 2022-01-15\n"
     ]
    }
   ],
   "source": [
    "# create a Date time index for the data Frame\n",
    "data['date'] = pd.date_range(start = '1/12/2022', periods = len(data), freq = \"D\")\n",
    "print(data)"
   ]
  },
  {
   "cell_type": "code",
   "execution_count": 246,
   "metadata": {},
   "outputs": [
    {
     "name": "stdout",
     "output_type": "stream",
     "text": [
      "   Namsu  Age  Salary       date  month\n",
      "0  kamal   23    5001 2022-01-12      1\n",
      "1  Rohan   20   70001 2022-01-13      1\n",
      "2   sona   34   90001 2022-01-14      1\n",
      "3  sinam   15    8001 2022-01-15      1\n"
     ]
    }
   ],
   "source": [
    "#convort a coloumnt to month\n",
    "data['month'] = data['date'].dt.month\n",
    "print(data)\n"
   ]
  },
  {
   "cell_type": "markdown",
   "metadata": {},
   "source": [
    "## Task 9: Input and Output\n",
    "- Read data from a CSV file into a DataFrame.\n",
    "- Write the DataFrame to a CSV file.\n",
    "- Read data from an Excel file into a DataFrame. The data given is `SaleData.xlsl`.\n",
    "- Write the DataFrame to an Excel file."
   ]
  },
  {
   "cell_type": "code",
   "execution_count": 249,
   "metadata": {},
   "outputs": [
    {
     "name": "stdout",
     "output_type": "stream",
     "text": [
      "Requirement already satisfied: openpyxl in c:\\users\\kamal\\appdata\\local\\packages\\pythonsoftwarefoundation.python.3.10_qbz5n2kfra8p0\\localcache\\local-packages\\python310\\site-packages (3.1.5)\n",
      "Requirement already satisfied: et-xmlfile in c:\\users\\kamal\\appdata\\local\\packages\\pythonsoftwarefoundation.python.3.10_qbz5n2kfra8p0\\localcache\\local-packages\\python310\\site-packages (from openpyxl) (1.1.0)\n",
      "    OrderDate   Region  Manager   SalesMan          Item   Units  Unit_price  \\\n",
      "0  2018-01-06     East   Martha  Alexander    Television   95.00    1198.000   \n",
      "1  2018-01-23  Central  Hermann     Shelli  Home Theater   50.00     500.000   \n",
      "2  2018-02-09  Central  Hermann       Luis    Television   36.00    1198.000   \n",
      "3  2018-02-26  Central  Timothy      David    Cell Phone   27.00     225.000   \n",
      "4  2018-03-15     West  Timothy    Stephen    Television   56.00    1198.000   \n",
      "5  2018-04-01     East   Martha  Alexander  Home Theater   60.00     500.000   \n",
      "6  2018-04-18  Central   Martha     Steven    Television   75.00    1198.000   \n",
      "7  2018-05-05  Central  Hermann       Luis    Television   90.00    1198.000   \n",
      "8  2018-05-22     West  Douglas    Michael    Television   32.00    1198.000   \n",
      "9  2018-06-08     East   Martha  Alexander  Home Theater   60.00     500.000   \n",
      "10 2018-06-25  Central  Hermann      Sigal    Television   90.00    1198.000   \n",
      "11 2018-07-12     East   Martha      Diana  Home Theater   29.00     500.000   \n",
      "12 2018-07-29     East  Douglas      Karen  Home Theater   81.00     500.000   \n",
      "13 2018-08-15     East   Martha  Alexander    Television   35.00    1198.000   \n",
      "14 2018-09-01  Central  Douglas       John          Desk    2.00     125.000   \n",
      "15 2018-09-18     East   Martha  Alexander   Video Games   16.00      58.500   \n",
      "16 2018-10-05  Central  Hermann      Sigal  Home Theater   28.00     500.000   \n",
      "17 2018-10-22     East   Martha  Alexander    Cell Phone   64.00     225.000   \n",
      "18 2018-11-08     East  Douglas      Karen    Cell Phone   15.00     225.000   \n",
      "19 2018-11-25  Central  Hermann     Shelli   Video Games   96.00      58.500   \n",
      "20 2018-12-12  Central  Douglas       John    Television   67.00    1198.000   \n",
      "21 2018-12-29     East  Douglas      Karen   Video Games   74.00      58.500   \n",
      "22 2019-01-15  Central  Timothy      David  Home Theater   46.00     500.000   \n",
      "23 2019-02-01  Central  Douglas       John  Home Theater   87.00     500.000   \n",
      "24 2019-02-18     East   Martha  Alexander  Home Theater    4.00     500.000   \n",
      "25 2019-03-07     West  Timothy    Stephen  Home Theater    7.00     500.000   \n",
      "26 2019-03-24  Central  Hermann       Luis   Video Games   50.00      58.500   \n",
      "27 2019-04-10  Central   Martha     Steven    Television   66.00    1198.000   \n",
      "28 2019-04-27     East   Martha      Diana    Cell Phone   96.00     225.000   \n",
      "29 2019-05-14  Central  Timothy      David    Television   53.00    1198.000   \n",
      "30 2019-05-31  Central  Timothy      David  Home Theater   80.00     500.000   \n",
      "31 2019-06-17  Central  Hermann     Shelli          Desk    5.00     125.000   \n",
      "32 2019-07-04     East   Martha  Alexander   Video Games   62.00      58.500   \n",
      "33 2019-07-21  Central  Hermann      Sigal   Video Games   55.00      58.500   \n",
      "34 2019-08-07  Central  Hermann     Shelli   Video Games   42.00      58.500   \n",
      "35 2019-08-24     West  Timothy    Stephen          Desk    3.00     125.000   \n",
      "36 2019-09-10  Central  Timothy      David    Television    7.00    1198.000   \n",
      "37 2019-09-27     West  Timothy    Stephen    Cell Phone   76.00     225.000   \n",
      "38 2019-10-14     West  Douglas    Michael  Home Theater   57.00     500.000   \n",
      "39 2019-10-31  Central   Martha     Steven    Television   14.00    1198.000   \n",
      "40 2019-11-17  Central  Hermann       Luis  Home Theater   11.00     500.000   \n",
      "41 2019-12-04  Central  Hermann       Luis  Home Theater   94.00     500.000   \n",
      "42 2019-12-21  Central   Martha     Steven  Home Theater   28.00     500.000   \n",
      "43        NaT      NaN      NaN        NaN           NaN  278.00    1125.000   \n",
      "44        NaT      NaN      NaN        NaN           NaN   34.75     140.625   \n",
      "\n",
      "     Sale_amt  \n",
      "0   113810.00  \n",
      "1    25000.00  \n",
      "2    43128.00  \n",
      "3     6075.00  \n",
      "4    67088.00  \n",
      "5    30000.00  \n",
      "6    89850.00  \n",
      "7   107820.00  \n",
      "8    38336.00  \n",
      "9    30000.00  \n",
      "10  107820.00  \n",
      "11   14500.00  \n",
      "12   40500.00  \n",
      "13   41930.00  \n",
      "14     250.00  \n",
      "15     936.00  \n",
      "16   14000.00  \n",
      "17   14400.00  \n",
      "18    3375.00  \n",
      "19    5616.00  \n",
      "20   80266.00  \n",
      "21    4329.00  \n",
      "22   23000.00  \n",
      "23   43500.00  \n",
      "24    2000.00  \n",
      "25    3500.00  \n",
      "26    2925.00  \n",
      "27   79068.00  \n",
      "28   21600.00  \n",
      "29   63494.00  \n",
      "30   40000.00  \n",
      "31     625.00  \n",
      "32    3627.00  \n",
      "33    3217.50  \n",
      "34    2457.00  \n",
      "35     375.00  \n",
      "36    8386.00  \n",
      "37   17100.00  \n",
      "38   28500.00  \n",
      "39   16772.00  \n",
      "40    5500.00  \n",
      "41   47000.00  \n",
      "42   14000.00  \n",
      "43   62550.00  \n",
      "44    7818.75  \n"
     ]
    },
    {
     "name": "stderr",
     "output_type": "stream",
     "text": [
      "\n",
      "[notice] A new release of pip is available: 23.0.1 -> 24.1.1\n",
      "[notice] To update, run: C:\\Users\\kamal\\AppData\\Local\\Microsoft\\WindowsApps\\PythonSoftwareFoundation.Python.3.10_qbz5n2kfra8p0\\python.exe -m pip install --upgrade pip\n"
     ]
    }
   ],
   "source": [
    "# Read Data from csv file\n",
    "! pip install openpyxl\n",
    "\n",
    "xlsx_file = r\"C:\\Users\\kamal\\OneDrive\\Desktop\\omenda school\\data-science-assignment-2-tentyap\\SaleData.xlsx\"\n",
    "excel_data = pd.read_excel(xlsx_file)\n",
    "\n",
    "print(excel_data)\n",
    "\n"
   ]
  },
  {
   "cell_type": "code",
   "execution_count": 254,
   "metadata": {},
   "outputs": [
    {
     "ename": "NameError",
     "evalue": "name 'df' is not defined",
     "output_type": "error",
     "traceback": [
      "\u001b[1;31m---------------------------------------------------------------------------\u001b[0m",
      "\u001b[1;31mNameError\u001b[0m                                 Traceback (most recent call last)",
      "Cell \u001b[1;32mIn[254], line 4\u001b[0m\n\u001b[0;32m      1\u001b[0m \u001b[38;5;66;03m# save to csv file \u001b[39;00m\n\u001b[0;32m      3\u001b[0m excel_file \u001b[38;5;241m=\u001b[39m \u001b[38;5;124m\"\u001b[39m\u001b[38;5;124mhello.xlsx\u001b[39m\u001b[38;5;124m\"\u001b[39m\n\u001b[1;32m----> 4\u001b[0m \u001b[43mdf\u001b[49m\u001b[38;5;241m.\u001b[39mto_excel(excel_file, index\u001b[38;5;241m=\u001b[39m\u001b[38;5;28;01mFalse\u001b[39;00m)\n",
      "\u001b[1;31mNameError\u001b[0m: name 'df' is not defined"
     ]
    }
   ],
   "source": []
  }
 ],
 "metadata": {
  "kernelspec": {
   "display_name": "Python 3",
   "language": "python",
   "name": "python3"
  },
  "language_info": {
   "codemirror_mode": {
    "name": "ipython",
    "version": 3
   },
   "file_extension": ".py",
   "mimetype": "text/x-python",
   "name": "python",
   "nbconvert_exporter": "python",
   "pygments_lexer": "ipython3",
   "version": "3.10.11"
  }
 },
 "nbformat": 4,
 "nbformat_minor": 2
}
